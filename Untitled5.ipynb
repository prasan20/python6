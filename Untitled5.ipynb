{
 "cells": [
  {
   "cell_type": "code",
   "execution_count": 3,
   "id": "000485fd",
   "metadata": {},
   "outputs": [
    {
     "name": "stdout",
     "output_type": "stream",
     "text": [
      "['dinesh', 'gmail.com']\n",
      "['kumar', 'gmail.com']\n",
      "['kiran', 'gmail.com']\n"
     ]
    }
   ],
   "source": [
    "list=['dinesh@gmail.com','kumar@gmail.com','kiran@gmail.com']\n",
    "n=0\n",
    "n=n+1\n",
    "for n in range(0,3):\n",
    "    print(list[n].split('@'))\n",
    "    "
   ]
  },
  {
   "cell_type": "code",
   "execution_count": 6,
   "id": "057d22a6",
   "metadata": {},
   "outputs": [
    {
     "name": "stdout",
     "output_type": "stream",
     "text": [
      "['dinesh', 'gmail.com']\n",
      "['kumar', 'gmail.com']\n",
      "['kiran', 'yahoo.com']\n",
      "dinesh@gmail@com\n",
      "['dinesh', 'gmail', 'com']\n",
      "kumar@gmail@com\n",
      "['kumar', 'gmail', 'com']\n",
      "kiran@yahoo@com\n",
      "['kiran', 'yahoo', 'com']\n"
     ]
    }
   ],
   "source": [
    "list=['dinesh@gmail.com','kumar@gmail.com','kiran@yahoo.com']\n",
    "n=0\n",
    "n=n+1\n",
    "for n in range(0,3):\n",
    "    print(list[n].split('@'))\n",
    "for n in range(0,3):\n",
    "    list1=list[n].replace('.','@')\n",
    "    print(list1)\n",
    "    list2=list1.split('@')\n",
    "    print(list2)\n",
    "  "
   ]
  },
  {
   "cell_type": "code",
   "execution_count": 8,
   "id": "7a53a9ce",
   "metadata": {},
   "outputs": [
    {
     "name": "stdout",
     "output_type": "stream",
     "text": [
      "{'mango', 'orange', 'apple'}\n"
     ]
    }
   ],
   "source": [
    "list_1=['apple','mango','apple','mango','orange']\n",
    "a=set((list_1))\n",
    "print(a)\n"
   ]
  },
  {
   "cell_type": "code",
   "execution_count": 17,
   "id": "a6f78248",
   "metadata": {},
   "outputs": [
    {
     "name": "stdout",
     "output_type": "stream",
     "text": [
      "{'apple': 2, 'mango': 2, 'orange': 1}\n"
     ]
    }
   ],
   "source": [
    "dict={}\n",
    "dict['apple']=list_1.count('apple')\n",
    "dict['mango']=list_1.count('mango')\n",
    "dict['orange']=list_1.count('orange')\n",
    "print(dict)"
   ]
  },
  {
   "cell_type": "code",
   "execution_count": 13,
   "id": "e709075a",
   "metadata": {},
   "outputs": [
    {
     "name": "stdout",
     "output_type": "stream",
     "text": [
      "['dinesh', 'kumar', 'kiran']\n"
     ]
    }
   ],
   "source": [
    "list=['dinesh@gmail.com','kumar@gmail.com','kiran@yahoo.com']\n",
    "l1=[]\n",
    "for i in list:\n",
    "    b=(i.split('@'))[0]\n",
    "    l1.append(b)\n",
    "print(l1)"
   ]
  },
  {
   "cell_type": "code",
   "execution_count": 14,
   "id": "081c08ff",
   "metadata": {},
   "outputs": [
    {
     "name": "stdout",
     "output_type": "stream",
     "text": [
      "['gmail', 'gmail', 'yahoo']\n"
     ]
    }
   ],
   "source": [
    "l2=[]\n",
    "for i in list:\n",
    "    c=(i.split('@'))[1]\n",
    "    c=c.split('.')[0]\n",
    "    l2.append(c)\n",
    "print(l2)"
   ]
  },
  {
   "cell_type": "code",
   "execution_count": 34,
   "id": "0e1ec842",
   "metadata": {},
   "outputs": [
    {
     "name": "stdout",
     "output_type": "stream",
     "text": [
      "{'apple': 2, 'mango': 2, 'orange': 1}\n"
     ]
    }
   ],
   "source": [
    "list_1=['apple','mango','apple','mango','orange']\n",
    "\n",
    "dict={}\n",
    "\n",
    "for i in list_1:\n",
    "    dict[i]=list_1.count(i)\n",
    "print(dict)\n",
    "\n",
    "        "
   ]
  },
  {
   "cell_type": "code",
   "execution_count": 27,
   "id": "cbe79825",
   "metadata": {},
   "outputs": [
    {
     "name": "stdout",
     "output_type": "stream",
     "text": [
      "{'orange', 'apple', 'mango'}\n"
     ]
    }
   ],
   "source": [
    "a=set(list_1)\n",
    "print(a)"
   ]
  },
  {
   "cell_type": "code",
   "execution_count": 8,
   "id": "c67e5f5f",
   "metadata": {},
   "outputs": [
    {
     "name": "stdout",
     "output_type": "stream",
     "text": [
      "['mango', 'orange', 'apple']\n"
     ]
    }
   ],
   "source": [
    "list_1=['apple','mango','apple','mango','orange']\n",
    "\n",
    "l=[]\n",
    "for i in list_1:\n",
    "    if(list_1.count(i)>=1):\n",
    "        l.append(i)\n",
    "        \n",
    "print(list(set(l)))\n"
   ]
  },
  {
   "cell_type": "code",
   "execution_count": 9,
   "id": "8074df5f",
   "metadata": {},
   "outputs": [
    {
     "name": "stdout",
     "output_type": "stream",
     "text": [
      "['mango', 'apple']\n"
     ]
    }
   ],
   "source": [
    "list_1=['apple','mango','apple','mango','orange']\n",
    "\n",
    "l=[]\n",
    "for i in list_1:\n",
    "    if(list_1.count(i)>1):\n",
    "        l.append(i)\n",
    "        \n",
    "print(list(set(l)))\n"
   ]
  },
  {
   "cell_type": "code",
   "execution_count": 3,
   "id": "ed98b09f",
   "metadata": {},
   "outputs": [
    {
     "name": "stdout",
     "output_type": "stream",
     "text": [
      "enter a stringmalayalam\n",
      "palindrome\n",
      "\n"
     ]
    }
   ],
   "source": [
    "x=input(\"enter a string\")\n",
    "if(x[::-1]==x):\n",
    "    print(\"palindrome\\n\")\n",
    "else:\n",
    "    print(\"not a palindrome\")"
   ]
  },
  {
   "cell_type": "markdown",
   "id": "ac0ce784",
   "metadata": {},
   "source": [
    "###### "
   ]
  },
  {
   "cell_type": "code",
   "execution_count": null,
   "id": "e35e575c",
   "metadata": {},
   "outputs": [],
   "source": [
    "def gm(c):\n",
    "    l=[]\n",
    "    n=int(input(\"enter n\"))\n",
    "    for i in range(0,n):\n",
    "        b=int(input(\"enter values\"))\n",
    "        l.append(b)\n",
    "    l2=(sorted(l[0:c]))\n",
    "    l3=(l[c:])\n",
    "    l2.extend(l3)\n",
    "    return l2\n",
    "l2=gm(4)\n",
    "print(l2)\n"
   ]
  },
  {
   "cell_type": "code",
   "execution_count": null,
   "id": "83029641",
   "metadata": {},
   "outputs": [],
   "source": [
    "\n"
   ]
  }
 ],
 "metadata": {
  "kernelspec": {
   "display_name": "Python 3 (ipykernel)",
   "language": "python",
   "name": "python3"
  },
  "language_info": {
   "codemirror_mode": {
    "name": "ipython",
    "version": 3
   },
   "file_extension": ".py",
   "mimetype": "text/x-python",
   "name": "python",
   "nbconvert_exporter": "python",
   "pygments_lexer": "ipython3",
   "version": "3.9.13"
  }
 },
 "nbformat": 4,
 "nbformat_minor": 5
}
